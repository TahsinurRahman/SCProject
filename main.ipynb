{
 "metadata": {
  "language_info": {
   "codemirror_mode": {
    "name": "ipython",
    "version": 3
   },
   "file_extension": ".py",
   "mimetype": "text/x-python",
   "name": "python",
   "nbconvert_exporter": "python",
   "pygments_lexer": "ipython3",
   "version": "3.7.7-final"
  },
  "orig_nbformat": 2,
  "kernelspec": {
   "name": "python3",
   "display_name": "Python 3"
  }
 },
 "nbformat": 4,
 "nbformat_minor": 2,
 "cells": [
  {
   "cell_type": "code",
   "execution_count": null,
   "metadata": {},
   "outputs": [],
   "source": [
    "import pandas\n",
    "\n",
    "df = pandas.read_csv('./qa.csv')\n",
    "\n",
    "questions = df['Questions'].to_list()\n",
    "answers = df['Answers'].to_list()\n",
    "\n",
    "collected_audio = 'আমার নাম কী'\n",
    "\n",
    "if collected_audio in questions:\n",
    "    # get the matched question index\n",
    "    matched_question_index = questions.index(collected_audio)\n",
    "    # get the desired answer for the asked question\n",
    "    desired_answer = answers[matched_question_index]\n",
    "    print(desired_answer)"
   ]
  }
 ]
}